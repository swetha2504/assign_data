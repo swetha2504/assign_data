{
 "cells": [
  {
   "cell_type": "markdown",
   "id": "94ffba7e",
   "metadata": {},
   "source": [
    "1. Create a null vector of size 10 but the fifth value which is 1.\n"
   ]
  },
  {
   "cell_type": "code",
   "execution_count": 1,
   "id": "30406ca1",
   "metadata": {},
   "outputs": [],
   "source": [
    "import numpy as np"
   ]
  },
  {
   "cell_type": "code",
   "execution_count": 2,
   "id": "46aeb496",
   "metadata": {},
   "outputs": [],
   "source": [
    "null_vector = np.zeros(10)"
   ]
  },
  {
   "cell_type": "code",
   "execution_count": 3,
   "id": "7e316115",
   "metadata": {},
   "outputs": [
    {
     "name": "stdout",
     "output_type": "stream",
     "text": [
      "[0. 0. 0. 0. 1. 0. 0. 0. 0. 0.]\n"
     ]
    }
   ],
   "source": [
    "null_vector[4] = 1\n",
    "print(null_vector)"
   ]
  },
  {
   "cell_type": "markdown",
   "id": "45b24d3d",
   "metadata": {},
   "source": [
    "2. Create a vector with values ranging from 10 to 49.\n"
   ]
  },
  {
   "cell_type": "code",
   "execution_count": 5,
   "id": "bba7238a",
   "metadata": {},
   "outputs": [
    {
     "name": "stdout",
     "output_type": "stream",
     "text": [
      "[10 11 12 13 14 15 16 17 18 19 20 21 22 23 24 25 26 27 28 29 30 31 32 33\n",
      " 34 35 36 37 38 39 40 41 42 43 44 45 46 47 48]\n"
     ]
    }
   ],
   "source": [
    "vectors=np.arange(10,49)\n",
    "print(vectors)"
   ]
  },
  {
   "cell_type": "markdown",
   "id": "57d6e25a",
   "metadata": {},
   "source": [
    "3. Create a 3x3 matrix with values ranging from 0 to 8"
   ]
  },
  {
   "cell_type": "code",
   "execution_count": 15,
   "id": "d4d0aac6",
   "metadata": {},
   "outputs": [
    {
     "name": "stdout",
     "output_type": "stream",
     "text": [
      "[0 1 2 3 4 5 6 7 8]\n"
     ]
    }
   ],
   "source": [
    "mat=np.arange(0,9)\n",
    "print(mat)"
   ]
  },
  {
   "cell_type": "code",
   "execution_count": 16,
   "id": "4ecf27d1",
   "metadata": {},
   "outputs": [],
   "source": [
    "arr=list(mat)"
   ]
  },
  {
   "cell_type": "code",
   "execution_count": 17,
   "id": "e4a7a8ee",
   "metadata": {},
   "outputs": [
    {
     "name": "stdout",
     "output_type": "stream",
     "text": [
      "[[0 1 2]\n",
      " [3 4 5]\n",
      " [6 7 8]]\n"
     ]
    }
   ],
   "source": [
    "arr1=mat.reshape(3,3)\n",
    "print(arr1)"
   ]
  },
  {
   "cell_type": "markdown",
   "id": "4faf2fc3",
   "metadata": {},
   "source": [
    "4. Find indices of non-zero elements from [1,2,0,0,4,0]\n"
   ]
  },
  {
   "cell_type": "code",
   "execution_count": 18,
   "id": "1f01b1a6",
   "metadata": {},
   "outputs": [
    {
     "name": "stdout",
     "output_type": "stream",
     "text": [
      "(array([0, 1, 4], dtype=int64),)\n"
     ]
    }
   ],
   "source": [
    "arr = np.array([1, 2, 0, 0, 4, 0])\n",
    "non_zero = np.nonzero(arr)\n",
    "\n",
    "print(non_zero)\n"
   ]
  },
  {
   "cell_type": "markdown",
   "id": "8f02044a",
   "metadata": {},
   "source": [
    "5. Create a 10x10 array with random values and find the minimum and maximum values.\n"
   ]
  },
  {
   "cell_type": "code",
   "execution_count": 30,
   "id": "fe81db2e",
   "metadata": {},
   "outputs": [
    {
     "data": {
      "text/plain": [
       "array([236, 418, 222, 208, 246, 270, 148, 109,  87, 462, 349, 303,  43,\n",
       "       213, 177,  49,   0, 375, 200, 211,  34, 189, 407,  62, 427, 141,\n",
       "       499,  82, 376,  48, 205, 499, 203,  80, 424, 203,  95, 297, 103,\n",
       "       359, 421, 449, 249, 197, 314, 160, 231,  32,  91, 181, 467, 464,\n",
       "       407, 251, 221,  42, 291, 120, 486, 499, 110, 442, 340, 494, 405,\n",
       "       101, 270, 256, 191,  86, 124, 374, 273, 438, 191, 352, 175, 385,\n",
       "       363,  25,  91, 224,  44, 349,  88, 489, 356, 294, 425, 401, 165,\n",
       "       362, 191, 189,  51, 223, 308, 127,  94, 219])"
      ]
     },
     "execution_count": 30,
     "metadata": {},
     "output_type": "execute_result"
    }
   ],
   "source": [
    "arr1 = np.random.randint(0,500,100)\n",
    "arr1"
   ]
  },
  {
   "cell_type": "code",
   "execution_count": 31,
   "id": "2d157e2a",
   "metadata": {},
   "outputs": [
    {
     "name": "stdout",
     "output_type": "stream",
     "text": [
      "[[236 418 222 208 246 270 148 109  87 462]\n",
      " [349 303  43 213 177  49   0 375 200 211]\n",
      " [ 34 189 407  62 427 141 499  82 376  48]\n",
      " [205 499 203  80 424 203  95 297 103 359]\n",
      " [421 449 249 197 314 160 231  32  91 181]\n",
      " [467 464 407 251 221  42 291 120 486 499]\n",
      " [110 442 340 494 405 101 270 256 191  86]\n",
      " [124 374 273 438 191 352 175 385 363  25]\n",
      " [ 91 224  44 349  88 489 356 294 425 401]\n",
      " [165 362 191 189  51 223 308 127  94 219]]\n"
     ]
    }
   ],
   "source": [
    "arr2=arr1.reshape(10,10)\n",
    "print(arr2)"
   ]
  },
  {
   "cell_type": "code",
   "execution_count": 32,
   "id": "4312f43e",
   "metadata": {},
   "outputs": [
    {
     "name": "stdout",
     "output_type": "stream",
     "text": [
      "mininum: 0\n",
      "maxmiun 499\n"
     ]
    }
   ],
   "source": [
    "min_value = arr2.min()\n",
    "max_value = arr2.max()\n",
    "\n",
    "print(\"mininum:\",min_value)\n",
    "print(\"maxmiun\",max_value)"
   ]
  },
  {
   "cell_type": "markdown",
   "id": "7127a165",
   "metadata": {},
   "source": [
    "6. Create a random vector of size 30 and find the mean value.\n"
   ]
  },
  {
   "cell_type": "code",
   "execution_count": 33,
   "id": "fd634303",
   "metadata": {},
   "outputs": [
    {
     "name": "stdout",
     "output_type": "stream",
     "text": [
      "[72 44 58 54 42 77 81 60  3 87  5 89 76 51 35 29  2 54 98 88 37 56 34  4\n",
      " 98 58 98 55 72 49]\n"
     ]
    }
   ],
   "source": [
    "vector=np.random.randint(0,100,30)\n",
    "print(vector)"
   ]
  },
  {
   "cell_type": "code",
   "execution_count": 34,
   "id": "a29f9230",
   "metadata": {},
   "outputs": [
    {
     "data": {
      "text/plain": [
       "55.53333333333333"
      ]
     },
     "execution_count": 34,
     "metadata": {},
     "output_type": "execute_result"
    }
   ],
   "source": [
    "np.mean(vector)"
   ]
  },
  {
   "cell_type": "code",
   "execution_count": 35,
   "id": "b5f4a82a",
   "metadata": {},
   "outputs": [
    {
     "data": {
      "text/plain": [
       "55"
      ]
     },
     "execution_count": 35,
     "metadata": {},
     "output_type": "execute_result"
    }
   ],
   "source": [
    "int(np.mean(vector))"
   ]
  },
  {
   "cell_type": "code",
   "execution_count": null,
   "id": "2e245add",
   "metadata": {},
   "outputs": [],
   "source": []
  }
 ],
 "metadata": {
  "kernelspec": {
   "display_name": "Python 3 (ipykernel)",
   "language": "python",
   "name": "python3"
  },
  "language_info": {
   "codemirror_mode": {
    "name": "ipython",
    "version": 3
   },
   "file_extension": ".py",
   "mimetype": "text/x-python",
   "name": "python",
   "nbconvert_exporter": "python",
   "pygments_lexer": "ipython3",
   "version": "3.10.9"
  }
 },
 "nbformat": 4,
 "nbformat_minor": 5
}
